{
  "nbformat": 4,
  "nbformat_minor": 0,
  "metadata": {
    "colab": {
      "provenance": []
    },
    "kernelspec": {
      "name": "python3",
      "display_name": "Python 3"
    },
    "language_info": {
      "name": "python"
    }
  },
  "cells": [
    {
      "cell_type": "markdown",
      "source": [
        "\n",
        "<h1>Data Science Tools and Ecosystem</h1>\n",
        "\n"
      ],
      "metadata": {
        "id": "HdJzHegpOaXp"
      }
    },
    {
      "cell_type": "markdown",
      "source": [
        "In this notebook, Data Science Tools and Ecosystem are summarized"
      ],
      "metadata": {
        "id": "te5DM3wZOjUH"
      }
    },
    {
      "cell_type": "markdown",
      "source": [
        "Some of the popular languages that Data Scientists use are:\n",
        "<ol><li>Python</li>\n",
        "<li>R prgramming</li>\n",
        "<li>Julia</li></ol>\n"
      ],
      "metadata": {
        "id": "WM6o7zOZO0zW"
      }
    },
    {
      "cell_type": "markdown",
      "source": [
        "Some of the commonly used libraries used by Data Scientists include:\n",
        "<ol>\n",
        "  <li>Scikit-learn\n",
        "  <li>pandas\n",
        "  <li>Tensor flow\n",
        "</ol>"
      ],
      "metadata": {
        "id": "h3IwxNCyPuVF"
      }
    },
    {
      "cell_type": "markdown",
      "source": [
        "Data science Tools\n",
        "<Table>\n",
        "<tr>\n",
        "<td>Jupyter Notebook\n",
        "</tr>\n",
        "<tr>\n",
        "<td>Google Colab\n",
        "</tr>\n",
        "<tr>\n",
        "<td>R studio\n",
        "</tr>\n",
        "</table>"
      ],
      "metadata": {
        "id": "7ql1ZZmqQKHt"
      }
    },
    {
      "cell_type": "markdown",
      "source": [
        "<h3> Below are few examples of evaluating arithmetic expressions in python</h3>\n"
      ],
      "metadata": {
        "id": "ugERLtkCQrJK"
      }
    },
    {
      "cell_type": "code",
      "source": [
        "(3*4)+5"
      ],
      "metadata": {
        "colab": {
          "base_uri": "https://localhost:8080/"
        },
        "id": "s0bnTz8TRHr_",
        "outputId": "ace182fe-4804-4e05-9448-2facfca0ecef"
      },
      "execution_count": 1,
      "outputs": [
        {
          "output_type": "execute_result",
          "data": {
            "text/plain": [
              "17"
            ]
          },
          "metadata": {},
          "execution_count": 1
        }
      ]
    },
    {
      "cell_type": "code",
      "source": [
        "#code to convert minutes to hours\n",
        "minutes = float(input(\"Enter minutes: \"))\n",
        "\n",
        "# Calculate hours by dividing minutes by 60\n",
        "hours = minutes / 60\n",
        "\n",
        "# Display the result\n",
        "print(f\"{minutes} minutes is equal to {hours} hours.\")"
      ],
      "metadata": {
        "colab": {
          "base_uri": "https://localhost:8080/"
        },
        "id": "Ta00NiRyRP2G",
        "outputId": "4bc3b875-eabb-4ea8-9bd7-f2cee1caa53d"
      },
      "execution_count": 2,
      "outputs": [
        {
          "output_type": "stream",
          "name": "stdout",
          "text": [
            "Enter minutes: 200\n",
            "200.0 minutes is equal to 3.3333333333333335 hours.\n"
          ]
        }
      ]
    },
    {
      "cell_type": "markdown",
      "source": [
        "\n",
        "<h3>objectives:</h3>\n",
        "<ul>\n",
        "<li>Familiarity with Data Science Tools\n",
        "<li>Database and Big Data Tools\n",
        "<li>Introduction to machine learning frameworks and libraries, such as scikit-learn, TensorFlow, and PyTorch\n",
        "</ul>\n",
        "\n"
      ],
      "metadata": {
        "id": "A1t_irnFRyQH"
      }
    },
    {
      "cell_type": "markdown",
      "source": [
        "<h2>Author</h2>\n",
        "Laharishree S"
      ],
      "metadata": {
        "id": "gvpyq-ucSaMh"
      }
    }
  ]
}